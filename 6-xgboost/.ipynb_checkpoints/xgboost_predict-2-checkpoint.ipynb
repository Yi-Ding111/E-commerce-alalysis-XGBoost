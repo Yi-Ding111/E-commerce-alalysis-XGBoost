{
 "cells": [
  {
   "cell_type": "code",
   "execution_count": 3,
   "metadata": {},
   "outputs": [],
   "source": [
    "import pymysql\n",
    "import pymysql.cursors\n",
    "import os\n",
    "import pandas as pd\n",
    "import numpy as np\n",
    "import matplotlib.pyplot as plt\n",
    "import seaborn as sns"
   ]
  },
  {
   "cell_type": "code",
   "execution_count": 4,
   "metadata": {},
   "outputs": [],
   "source": [
    "#connect my database"
   ]
  },
  {
   "cell_type": "code",
   "execution_count": 5,
   "metadata": {},
   "outputs": [],
   "source": [
    "mydb = pymysql.connect(\n",
    "    host='127.0.0.1',\n",
    "    port=3306,\n",
    "    user='root',\n",
    "    passwd='',\n",
    "    db='action'\n",
    "    )"
   ]
  },
  {
   "cell_type": "code",
   "execution_count": 4,
   "metadata": {},
   "outputs": [],
   "source": [
    "#merge table information"
   ]
  },
  {
   "cell_type": "code",
   "execution_count": 63,
   "metadata": {},
   "outputs": [],
   "source": [
    "cursor=mydb.cursor()\n",
    "all_info_table_train='CREATE TABLE all_info_table_train AS\\\n",
    "                SELECT P.cate,A.user_id,A.sku_id,A.action_time,P.brand,P.shop_id,A.type,U.sex,U.age,U.user_lv_cd,U.city_level\\\n",
    "                FROM action AS A\\\n",
    "                JOIN product AS P ON P.sku_id=A.sku_id\\\n",
    "                JOIN user AS U ON U.user_id=A.user_id\\\n",
    "                WHERE A.type=2 AND A.action_time BETWEEN \"2018-02-01 00:00:00\" AND \"2018-04-10 00:00:00\"'\n",
    "cursor.execute(all_info_table_train)\n",
    "myresult_train=cursor.fetchall()"
   ]
  },
  {
   "cell_type": "code",
   "execution_count": 64,
   "metadata": {},
   "outputs": [],
   "source": [
    "cursor2=mydb.cursor()\n",
    "all_info_table_test='CREATE TABLE all_info_table_test AS\\\n",
    "                SELECT P.cate,A.user_id,A.sku_id,A.action_time,P.brand,P.shop_id,A.type,U.sex,U.age,U.user_lv_cd,U.city_level\\\n",
    "                FROM action AS A\\\n",
    "                JOIN product AS P ON P.sku_id=A.sku_id\\\n",
    "                JOIN user AS U ON U.user_id=A.user_id\\\n",
    "                WHERE A.type=2 AND A.action_time BETWEEN \"2018-04-10 00:00:00\" AND \"2018-04-16 00:00:00\"'\n",
    "cursor2.execute(all_info_table_test)\n",
    "myresult_test=cursor.fetchall()"
   ]
  },
  {
   "cell_type": "code",
   "execution_count": 18,
   "metadata": {},
   "outputs": [],
   "source": [
    "cursor.close()"
   ]
  },
  {
   "cell_type": "code",
   "execution_count": 6,
   "metadata": {},
   "outputs": [
    {
     "name": "stdout",
     "output_type": "stream",
     "text": [
      "   cate  user_id  sku_id            action_time  brand  shop_id  type  sex  \\\n",
      "0    79   660257  282037  2018-02-08 15:05:37.0   4854     5338     2  1.0   \n",
      "1    79  1008776   31647  2018-03-02 01:02:08.0  10511     9665     2  0.0   \n",
      "2    79  1569797  141162  2018-02-06 22:32:30.0   4854       79     2  1.0   \n",
      "3    79  1066676  102904  2018-03-08 10:22:09.0   1226     7129     2  1.0   \n",
      "4    79  1314628  102417  2018-02-05 11:47:45.0   5700     1553     2  1.0   \n",
      "5    79   982912  264665  2018-02-18 16:19:44.0   1898     1182     2  0.0   \n",
      "6    79   260858  307497  2018-02-01 19:29:26.0   5206     9665     2  0.0   \n",
      "7    79  1123179  274889  2018-03-18 16:26:49.0   2564     6710     2  1.0   \n",
      "8    79   148013   47151  2018-02-21 18:48:56.0   2564     1095     2  1.0   \n",
      "9    79   399810  270064  2018-03-04 11:47:11.0   4361     5896     2  1.0   \n",
      "\n",
      "   age  user_lv_cd city_level  \n",
      "0  5.0           1             \n",
      "1  6.0           7        4.0  \n",
      "2  5.0           5        4.0  \n",
      "3  6.0           7        1.0  \n",
      "4  5.0           5        1.0  \n",
      "5  5.0           5        1.0  \n",
      "6  5.0           5        1.0  \n",
      "7  5.0           5        1.0  \n",
      "8  5.0           5        1.0  \n",
      "9  5.0           5        4.0  \n"
     ]
    }
   ],
   "source": [
    "top10_all_info_table_train='SELECT *\\\n",
    "                            FROM all_info_table_train\\\n",
    "                            limit 10'\n",
    "sql_top_10_all_info_table_train=pd.read_sql_query(top10_all_info_table_train,mydb)\n",
    "print(sql_top_10_all_info_table_train)"
   ]
  },
  {
   "cell_type": "code",
   "execution_count": 124,
   "metadata": {},
   "outputs": [],
   "source": [
    "from sklearn.linear_model import LogisticRegression\n",
    "from sklearn.ensemble import RandomForestClassifier\n",
    "from sklearn.metrics import roc_auc_score as AUC\n",
    "from sklearn.metrics import mean_absolute_error\n",
    "from sklearn.decomposition import PCA\n",
    "from sklearn.model_selection import cross_val_score\n",
    "from sklearn.model_selection import train_test_split\n",
    "from scipy import stats\n",
    "from copy import deepcopy\n",
    "import csv\n",
    "import os"
   ]
  },
  {
   "cell_type": "code",
   "execution_count": 8,
   "metadata": {},
   "outputs": [],
   "source": [
    "#load dataset"
   ]
  },
  {
   "cell_type": "code",
   "execution_count": 9,
   "metadata": {},
   "outputs": [],
   "source": [
    "train_df=pd.read_csv('/Users/charles/Desktop/consumer/all_info_table_train.csv')\n",
    "test_df=pd.read_csv('/Users/charles/Desktop/consumer/all_info_table_test.csv')"
   ]
  },
  {
   "cell_type": "code",
   "execution_count": 10,
   "metadata": {},
   "outputs": [
    {
     "data": {
      "text/html": [
       "<div>\n",
       "<style scoped>\n",
       "    .dataframe tbody tr th:only-of-type {\n",
       "        vertical-align: middle;\n",
       "    }\n",
       "\n",
       "    .dataframe tbody tr th {\n",
       "        vertical-align: top;\n",
       "    }\n",
       "\n",
       "    .dataframe thead th {\n",
       "        text-align: right;\n",
       "    }\n",
       "</style>\n",
       "<table border=\"1\" class=\"dataframe\">\n",
       "  <thead>\n",
       "    <tr style=\"text-align: right;\">\n",
       "      <th></th>\n",
       "      <th>cate</th>\n",
       "      <th>user_id</th>\n",
       "      <th>sku_id</th>\n",
       "      <th>action_time</th>\n",
       "      <th>brand</th>\n",
       "      <th>shop_id</th>\n",
       "      <th>type</th>\n",
       "      <th>sex</th>\n",
       "      <th>age</th>\n",
       "      <th>user_lv_cd</th>\n",
       "      <th>city_level</th>\n",
       "    </tr>\n",
       "  </thead>\n",
       "  <tbody>\n",
       "    <tr>\n",
       "      <th>0</th>\n",
       "      <td>79</td>\n",
       "      <td>660257</td>\n",
       "      <td>282037</td>\n",
       "      <td>2018-02-08 15:05:37.0</td>\n",
       "      <td>4854</td>\n",
       "      <td>5338</td>\n",
       "      <td>2</td>\n",
       "      <td>1.0</td>\n",
       "      <td>5.0</td>\n",
       "      <td>1</td>\n",
       "      <td>NaN</td>\n",
       "    </tr>\n",
       "    <tr>\n",
       "      <th>1</th>\n",
       "      <td>79</td>\n",
       "      <td>1008776</td>\n",
       "      <td>31647</td>\n",
       "      <td>2018-03-02 01:02:08.0</td>\n",
       "      <td>10511</td>\n",
       "      <td>9665</td>\n",
       "      <td>2</td>\n",
       "      <td>0.0</td>\n",
       "      <td>6.0</td>\n",
       "      <td>7</td>\n",
       "      <td>4.0</td>\n",
       "    </tr>\n",
       "    <tr>\n",
       "      <th>2</th>\n",
       "      <td>79</td>\n",
       "      <td>1569797</td>\n",
       "      <td>141162</td>\n",
       "      <td>2018-02-06 22:32:30.0</td>\n",
       "      <td>4854</td>\n",
       "      <td>79</td>\n",
       "      <td>2</td>\n",
       "      <td>1.0</td>\n",
       "      <td>5.0</td>\n",
       "      <td>5</td>\n",
       "      <td>4.0</td>\n",
       "    </tr>\n",
       "    <tr>\n",
       "      <th>3</th>\n",
       "      <td>79</td>\n",
       "      <td>1066676</td>\n",
       "      <td>102904</td>\n",
       "      <td>2018-03-08 10:22:09.0</td>\n",
       "      <td>1226</td>\n",
       "      <td>7129</td>\n",
       "      <td>2</td>\n",
       "      <td>1.0</td>\n",
       "      <td>6.0</td>\n",
       "      <td>7</td>\n",
       "      <td>1.0</td>\n",
       "    </tr>\n",
       "    <tr>\n",
       "      <th>4</th>\n",
       "      <td>79</td>\n",
       "      <td>1314628</td>\n",
       "      <td>102417</td>\n",
       "      <td>2018-02-05 11:47:45.0</td>\n",
       "      <td>5700</td>\n",
       "      <td>1553</td>\n",
       "      <td>2</td>\n",
       "      <td>1.0</td>\n",
       "      <td>5.0</td>\n",
       "      <td>5</td>\n",
       "      <td>1.0</td>\n",
       "    </tr>\n",
       "  </tbody>\n",
       "</table>\n",
       "</div>"
      ],
      "text/plain": [
       "   cate  user_id  sku_id            action_time  brand  shop_id  type  sex  \\\n",
       "0    79   660257  282037  2018-02-08 15:05:37.0   4854     5338     2  1.0   \n",
       "1    79  1008776   31647  2018-03-02 01:02:08.0  10511     9665     2  0.0   \n",
       "2    79  1569797  141162  2018-02-06 22:32:30.0   4854       79     2  1.0   \n",
       "3    79  1066676  102904  2018-03-08 10:22:09.0   1226     7129     2  1.0   \n",
       "4    79  1314628  102417  2018-02-05 11:47:45.0   5700     1553     2  1.0   \n",
       "\n",
       "   age  user_lv_cd  city_level  \n",
       "0  5.0           1         NaN  \n",
       "1  6.0           7         4.0  \n",
       "2  5.0           5         4.0  \n",
       "3  6.0           7         1.0  \n",
       "4  5.0           5         1.0  "
      ]
     },
     "execution_count": 10,
     "metadata": {},
     "output_type": "execute_result"
    }
   ],
   "source": [
    "train_df.head(5)"
   ]
  },
  {
   "cell_type": "code",
   "execution_count": 11,
   "metadata": {},
   "outputs": [
    {
     "data": {
      "text/html": [
       "<div>\n",
       "<style scoped>\n",
       "    .dataframe tbody tr th:only-of-type {\n",
       "        vertical-align: middle;\n",
       "    }\n",
       "\n",
       "    .dataframe tbody tr th {\n",
       "        vertical-align: top;\n",
       "    }\n",
       "\n",
       "    .dataframe thead th {\n",
       "        text-align: right;\n",
       "    }\n",
       "</style>\n",
       "<table border=\"1\" class=\"dataframe\">\n",
       "  <thead>\n",
       "    <tr style=\"text-align: right;\">\n",
       "      <th></th>\n",
       "      <th>cate</th>\n",
       "      <th>user_id</th>\n",
       "      <th>sku_id</th>\n",
       "      <th>action_time</th>\n",
       "      <th>brand</th>\n",
       "      <th>shop_id</th>\n",
       "      <th>type</th>\n",
       "      <th>sex</th>\n",
       "      <th>age</th>\n",
       "      <th>user_lv_cd</th>\n",
       "      <th>city_level</th>\n",
       "    </tr>\n",
       "  </thead>\n",
       "  <tbody>\n",
       "    <tr>\n",
       "      <th>0</th>\n",
       "      <td>79</td>\n",
       "      <td>537520</td>\n",
       "      <td>58984</td>\n",
       "      <td>2018-04-14 18:44:53.0</td>\n",
       "      <td>2564</td>\n",
       "      <td>1095</td>\n",
       "      <td>2</td>\n",
       "      <td>NaN</td>\n",
       "      <td>NaN</td>\n",
       "      <td>5</td>\n",
       "      <td>NaN</td>\n",
       "    </tr>\n",
       "    <tr>\n",
       "      <th>1</th>\n",
       "      <td>19</td>\n",
       "      <td>1195693</td>\n",
       "      <td>261922</td>\n",
       "      <td>2018-04-14 17:48:01.0</td>\n",
       "      <td>7357</td>\n",
       "      <td>4059</td>\n",
       "      <td>2</td>\n",
       "      <td>1.0</td>\n",
       "      <td>5.0</td>\n",
       "      <td>1</td>\n",
       "      <td>NaN</td>\n",
       "    </tr>\n",
       "    <tr>\n",
       "      <th>2</th>\n",
       "      <td>27</td>\n",
       "      <td>1074877</td>\n",
       "      <td>134144</td>\n",
       "      <td>2018-04-10 16:15:11.0</td>\n",
       "      <td>6588</td>\n",
       "      <td>3663</td>\n",
       "      <td>2</td>\n",
       "      <td>0.0</td>\n",
       "      <td>5.0</td>\n",
       "      <td>7</td>\n",
       "      <td>1.0</td>\n",
       "    </tr>\n",
       "    <tr>\n",
       "      <th>3</th>\n",
       "      <td>79</td>\n",
       "      <td>158811</td>\n",
       "      <td>114345</td>\n",
       "      <td>2018-04-12 13:19:58.0</td>\n",
       "      <td>6574</td>\n",
       "      <td>4071</td>\n",
       "      <td>2</td>\n",
       "      <td>1.0</td>\n",
       "      <td>5.0</td>\n",
       "      <td>5</td>\n",
       "      <td>1.0</td>\n",
       "    </tr>\n",
       "    <tr>\n",
       "      <th>4</th>\n",
       "      <td>72</td>\n",
       "      <td>852571</td>\n",
       "      <td>219951</td>\n",
       "      <td>2018-04-10 23:18:54.0</td>\n",
       "      <td>3746</td>\n",
       "      <td>7196</td>\n",
       "      <td>2</td>\n",
       "      <td>-1.0</td>\n",
       "      <td>5.0</td>\n",
       "      <td>6</td>\n",
       "      <td>1.0</td>\n",
       "    </tr>\n",
       "  </tbody>\n",
       "</table>\n",
       "</div>"
      ],
      "text/plain": [
       "   cate  user_id  sku_id            action_time  brand  shop_id  type  sex  \\\n",
       "0    79   537520   58984  2018-04-14 18:44:53.0   2564     1095     2  NaN   \n",
       "1    19  1195693  261922  2018-04-14 17:48:01.0   7357     4059     2  1.0   \n",
       "2    27  1074877  134144  2018-04-10 16:15:11.0   6588     3663     2  0.0   \n",
       "3    79   158811  114345  2018-04-12 13:19:58.0   6574     4071     2  1.0   \n",
       "4    72   852571  219951  2018-04-10 23:18:54.0   3746     7196     2 -1.0   \n",
       "\n",
       "   age  user_lv_cd  city_level  \n",
       "0  NaN           5         NaN  \n",
       "1  5.0           1         NaN  \n",
       "2  5.0           7         1.0  \n",
       "3  5.0           5         1.0  \n",
       "4  5.0           6         1.0  "
      ]
     },
     "execution_count": 11,
     "metadata": {},
     "output_type": "execute_result"
    }
   ],
   "source": [
    "test_df.head(5)"
   ]
  },
  {
   "cell_type": "code",
   "execution_count": 12,
   "metadata": {},
   "outputs": [
    {
     "data": {
      "text/plain": [
       "(1978964, 11)"
      ]
     },
     "execution_count": 12,
     "metadata": {},
     "output_type": "execute_result"
    }
   ],
   "source": [
    "train_df.shape"
   ]
  },
  {
   "cell_type": "code",
   "execution_count": 13,
   "metadata": {},
   "outputs": [
    {
     "data": {
      "text/plain": [
       "(184682, 11)"
      ]
     },
     "execution_count": 13,
     "metadata": {},
     "output_type": "execute_result"
    }
   ],
   "source": [
    "test_df.shape"
   ]
  },
  {
   "cell_type": "code",
   "execution_count": 14,
   "metadata": {},
   "outputs": [
    {
     "data": {
      "text/html": [
       "<div>\n",
       "<style scoped>\n",
       "    .dataframe tbody tr th:only-of-type {\n",
       "        vertical-align: middle;\n",
       "    }\n",
       "\n",
       "    .dataframe tbody tr th {\n",
       "        vertical-align: top;\n",
       "    }\n",
       "\n",
       "    .dataframe thead th {\n",
       "        text-align: right;\n",
       "    }\n",
       "</style>\n",
       "<table border=\"1\" class=\"dataframe\">\n",
       "  <thead>\n",
       "    <tr style=\"text-align: right;\">\n",
       "      <th></th>\n",
       "      <th>cate</th>\n",
       "      <th>user_id</th>\n",
       "      <th>sku_id</th>\n",
       "      <th>brand</th>\n",
       "      <th>shop_id</th>\n",
       "      <th>type</th>\n",
       "      <th>sex</th>\n",
       "      <th>age</th>\n",
       "      <th>user_lv_cd</th>\n",
       "      <th>city_level</th>\n",
       "    </tr>\n",
       "  </thead>\n",
       "  <tbody>\n",
       "    <tr>\n",
       "      <th>count</th>\n",
       "      <td>1.978964e+06</td>\n",
       "      <td>1.978964e+06</td>\n",
       "      <td>1.978964e+06</td>\n",
       "      <td>1.978964e+06</td>\n",
       "      <td>1.978964e+06</td>\n",
       "      <td>1978964.0</td>\n",
       "      <td>1.978066e+06</td>\n",
       "      <td>1.976863e+06</td>\n",
       "      <td>1.978964e+06</td>\n",
       "      <td>1.977190e+06</td>\n",
       "    </tr>\n",
       "    <tr>\n",
       "      <th>mean</th>\n",
       "      <td>4.021845e+01</td>\n",
       "      <td>8.038331e+05</td>\n",
       "      <td>1.903919e+05</td>\n",
       "      <td>5.080010e+03</td>\n",
       "      <td>5.171412e+03</td>\n",
       "      <td>2.0</td>\n",
       "      <td>4.282981e-01</td>\n",
       "      <td>4.644960e+00</td>\n",
       "      <td>4.525498e+00</td>\n",
       "      <td>3.319738e+00</td>\n",
       "    </tr>\n",
       "    <tr>\n",
       "      <th>std</th>\n",
       "      <td>2.556868e+01</td>\n",
       "      <td>4.643364e+05</td>\n",
       "      <td>1.087221e+05</td>\n",
       "      <td>3.222402e+03</td>\n",
       "      <td>3.007510e+03</td>\n",
       "      <td>0.0</td>\n",
       "      <td>5.065627e-01</td>\n",
       "      <td>1.467262e+00</td>\n",
       "      <td>2.379927e+00</td>\n",
       "      <td>1.416239e+00</td>\n",
       "    </tr>\n",
       "    <tr>\n",
       "      <th>min</th>\n",
       "      <td>1.000000e+00</td>\n",
       "      <td>1.000000e+00</td>\n",
       "      <td>1.300000e+01</td>\n",
       "      <td>1.000000e+00</td>\n",
       "      <td>1.000000e+00</td>\n",
       "      <td>2.0</td>\n",
       "      <td>-1.000000e+00</td>\n",
       "      <td>1.000000e+00</td>\n",
       "      <td>1.000000e+00</td>\n",
       "      <td>1.000000e+00</td>\n",
       "    </tr>\n",
       "    <tr>\n",
       "      <th>25%</th>\n",
       "      <td>2.000000e+01</td>\n",
       "      <td>4.018278e+05</td>\n",
       "      <td>9.748900e+04</td>\n",
       "      <td>2.484000e+03</td>\n",
       "      <td>2.491000e+03</td>\n",
       "      <td>2.0</td>\n",
       "      <td>0.000000e+00</td>\n",
       "      <td>4.000000e+00</td>\n",
       "      <td>1.000000e+00</td>\n",
       "      <td>3.000000e+00</td>\n",
       "    </tr>\n",
       "    <tr>\n",
       "      <th>50%</th>\n",
       "      <td>3.400000e+01</td>\n",
       "      <td>8.035870e+05</td>\n",
       "      <td>1.889780e+05</td>\n",
       "      <td>4.491000e+03</td>\n",
       "      <td>5.172000e+03</td>\n",
       "      <td>2.0</td>\n",
       "      <td>0.000000e+00</td>\n",
       "      <td>5.000000e+00</td>\n",
       "      <td>5.000000e+00</td>\n",
       "      <td>4.000000e+00</td>\n",
       "    </tr>\n",
       "    <tr>\n",
       "      <th>75%</th>\n",
       "      <td>6.900000e+01</td>\n",
       "      <td>1.206099e+06</td>\n",
       "      <td>2.856360e+05</td>\n",
       "      <td>7.954000e+03</td>\n",
       "      <td>7.831000e+03</td>\n",
       "      <td>2.0</td>\n",
       "      <td>1.000000e+00</td>\n",
       "      <td>6.000000e+00</td>\n",
       "      <td>6.000000e+00</td>\n",
       "      <td>4.000000e+00</td>\n",
       "    </tr>\n",
       "    <tr>\n",
       "      <th>max</th>\n",
       "      <td>8.100000e+01</td>\n",
       "      <td>1.608707e+06</td>\n",
       "      <td>3.784560e+05</td>\n",
       "      <td>1.119900e+04</td>\n",
       "      <td>1.039900e+04</td>\n",
       "      <td>2.0</td>\n",
       "      <td>1.000000e+00</td>\n",
       "      <td>6.000000e+00</td>\n",
       "      <td>7.000000e+00</td>\n",
       "      <td>6.000000e+00</td>\n",
       "    </tr>\n",
       "  </tbody>\n",
       "</table>\n",
       "</div>"
      ],
      "text/plain": [
       "               cate       user_id        sku_id         brand       shop_id  \\\n",
       "count  1.978964e+06  1.978964e+06  1.978964e+06  1.978964e+06  1.978964e+06   \n",
       "mean   4.021845e+01  8.038331e+05  1.903919e+05  5.080010e+03  5.171412e+03   \n",
       "std    2.556868e+01  4.643364e+05  1.087221e+05  3.222402e+03  3.007510e+03   \n",
       "min    1.000000e+00  1.000000e+00  1.300000e+01  1.000000e+00  1.000000e+00   \n",
       "25%    2.000000e+01  4.018278e+05  9.748900e+04  2.484000e+03  2.491000e+03   \n",
       "50%    3.400000e+01  8.035870e+05  1.889780e+05  4.491000e+03  5.172000e+03   \n",
       "75%    6.900000e+01  1.206099e+06  2.856360e+05  7.954000e+03  7.831000e+03   \n",
       "max    8.100000e+01  1.608707e+06  3.784560e+05  1.119900e+04  1.039900e+04   \n",
       "\n",
       "            type           sex           age    user_lv_cd    city_level  \n",
       "count  1978964.0  1.978066e+06  1.976863e+06  1.978964e+06  1.977190e+06  \n",
       "mean         2.0  4.282981e-01  4.644960e+00  4.525498e+00  3.319738e+00  \n",
       "std          0.0  5.065627e-01  1.467262e+00  2.379927e+00  1.416239e+00  \n",
       "min          2.0 -1.000000e+00  1.000000e+00  1.000000e+00  1.000000e+00  \n",
       "25%          2.0  0.000000e+00  4.000000e+00  1.000000e+00  3.000000e+00  \n",
       "50%          2.0  0.000000e+00  5.000000e+00  5.000000e+00  4.000000e+00  \n",
       "75%          2.0  1.000000e+00  6.000000e+00  6.000000e+00  4.000000e+00  \n",
       "max          2.0  1.000000e+00  6.000000e+00  7.000000e+00  6.000000e+00  "
      ]
     },
     "execution_count": 14,
     "metadata": {},
     "output_type": "execute_result"
    }
   ],
   "source": [
    "train_df.describe()"
   ]
  },
  {
   "cell_type": "code",
   "execution_count": 15,
   "metadata": {},
   "outputs": [],
   "source": [
    "#find null value"
   ]
  },
  {
   "cell_type": "code",
   "execution_count": 16,
   "metadata": {},
   "outputs": [
    {
     "data": {
      "text/plain": [
       "True"
      ]
     },
     "execution_count": 16,
     "metadata": {},
     "output_type": "execute_result"
    }
   ],
   "source": [
    "pd.isnull(train_df).values.any()"
   ]
  },
  {
   "cell_type": "code",
   "execution_count": 17,
   "metadata": {},
   "outputs": [],
   "source": [
    "#there is existing null vaule in train dataset\n"
   ]
  },
  {
   "cell_type": "code",
   "execution_count": 18,
   "metadata": {},
   "outputs": [],
   "source": [
    "#clean null values"
   ]
  },
  {
   "cell_type": "code",
   "execution_count": 19,
   "metadata": {},
   "outputs": [
    {
     "data": {
      "text/plain": [
       "False"
      ]
     },
     "execution_count": 19,
     "metadata": {},
     "output_type": "execute_result"
    }
   ],
   "source": [
    "pd.isnull(train_df['cate']).values.any()"
   ]
  },
  {
   "cell_type": "code",
   "execution_count": 20,
   "metadata": {},
   "outputs": [
    {
     "data": {
      "text/plain": [
       "False"
      ]
     },
     "execution_count": 20,
     "metadata": {},
     "output_type": "execute_result"
    }
   ],
   "source": [
    "pd.isnull(train_df['user_id']).values.any()"
   ]
  },
  {
   "cell_type": "code",
   "execution_count": 21,
   "metadata": {},
   "outputs": [
    {
     "data": {
      "text/plain": [
       "False"
      ]
     },
     "execution_count": 21,
     "metadata": {},
     "output_type": "execute_result"
    }
   ],
   "source": [
    "pd.isnull(train_df['sku_id']).values.any()"
   ]
  },
  {
   "cell_type": "code",
   "execution_count": 22,
   "metadata": {},
   "outputs": [
    {
     "data": {
      "text/plain": [
       "False"
      ]
     },
     "execution_count": 22,
     "metadata": {},
     "output_type": "execute_result"
    }
   ],
   "source": [
    "pd.isnull(train_df['brand']).values.any()"
   ]
  },
  {
   "cell_type": "code",
   "execution_count": 23,
   "metadata": {},
   "outputs": [
    {
     "data": {
      "text/plain": [
       "False"
      ]
     },
     "execution_count": 23,
     "metadata": {},
     "output_type": "execute_result"
    }
   ],
   "source": [
    "pd.isnull(train_df['shop_id']).values.any()"
   ]
  },
  {
   "cell_type": "code",
   "execution_count": 24,
   "metadata": {},
   "outputs": [
    {
     "data": {
      "text/plain": [
       "True"
      ]
     },
     "execution_count": 24,
     "metadata": {},
     "output_type": "execute_result"
    }
   ],
   "source": [
    "pd.isnull(train_df['sex']).values.any()"
   ]
  },
  {
   "cell_type": "code",
   "execution_count": 25,
   "metadata": {},
   "outputs": [
    {
     "data": {
      "text/plain": [
       "Text(0, 0.5, 'count')"
      ]
     },
     "execution_count": 25,
     "metadata": {},
     "output_type": "execute_result"
    },
    {
     "data": {
      "image/png": "[encoded data removed]",
      "text/plain": [
       "<Figure size 432x288 with 1 Axes>"
      ]
     },
     "metadata": {
      "needs_background": "light"
     },
     "output_type": "display_data"
    }
   ],
   "source": [
    "train_df['sex'].plot(kind='hist')\n",
    "plt.title('sex distribution')\n",
    "plt.xlabel('sex')\n",
    "plt.ylabel('count')"
   ]
  },
  {
   "cell_type": "code",
   "execution_count": 26,
   "metadata": {},
   "outputs": [
    {
     "data": {
      "text/plain": [
       "False    1978066\n",
       "True         898\n",
       "Name: sex, dtype: int64"
      ]
     },
     "execution_count": 26,
     "metadata": {},
     "output_type": "execute_result"
    }
   ],
   "source": [
    "pd.isnull(train_df['sex']).value_counts()"
   ]
  },
  {
   "cell_type": "code",
   "execution_count": 27,
   "metadata": {},
   "outputs": [],
   "source": [
    "#the number is small, we delete them directly"
   ]
  },
  {
   "cell_type": "code",
   "execution_count": 28,
   "metadata": {},
   "outputs": [],
   "source": [
    "train_df.dropna(subset=['sex'],how='any',inplace=True)"
   ]
  },
  {
   "cell_type": "code",
   "execution_count": 29,
   "metadata": {},
   "outputs": [
    {
     "data": {
      "text/plain": [
       "False    1976863\n",
       "True        1203\n",
       "Name: age, dtype: int64"
      ]
     },
     "execution_count": 29,
     "metadata": {},
     "output_type": "execute_result"
    }
   ],
   "source": [
    "pd.isnull(train_df['age']).value_counts()"
   ]
  },
  {
   "cell_type": "code",
   "execution_count": 30,
   "metadata": {},
   "outputs": [],
   "source": [
    "train_df.dropna(subset=['age'],how='any',inplace=True)"
   ]
  },
  {
   "cell_type": "code",
   "execution_count": 31,
   "metadata": {},
   "outputs": [
    {
     "data": {
      "text/plain": [
       "False    1976863\n",
       "Name: user_lv_cd, dtype: int64"
      ]
     },
     "execution_count": 31,
     "metadata": {},
     "output_type": "execute_result"
    }
   ],
   "source": [
    "pd.isnull(train_df['user_lv_cd']).value_counts()"
   ]
  },
  {
   "cell_type": "code",
   "execution_count": 32,
   "metadata": {},
   "outputs": [
    {
     "data": {
      "text/plain": [
       "False    1975989\n",
       "True         874\n",
       "Name: city_level, dtype: int64"
      ]
     },
     "execution_count": 32,
     "metadata": {},
     "output_type": "execute_result"
    }
   ],
   "source": [
    "pd.isnull(train_df['city_level']).value_counts()"
   ]
  },
  {
   "cell_type": "code",
   "execution_count": 33,
   "metadata": {},
   "outputs": [],
   "source": [
    "train_df.dropna(subset=['city_level'],how='any',inplace=True)"
   ]
  },
  {
   "cell_type": "code",
   "execution_count": 34,
   "metadata": {},
   "outputs": [
    {
     "data": {
      "text/html": [
       "<div>\n",
       "<style scoped>\n",
       "    .dataframe tbody tr th:only-of-type {\n",
       "        vertical-align: middle;\n",
       "    }\n",
       "\n",
       "    .dataframe tbody tr th {\n",
       "        vertical-align: top;\n",
       "    }\n",
       "\n",
       "    .dataframe thead th {\n",
       "        text-align: right;\n",
       "    }\n",
       "</style>\n",
       "<table border=\"1\" class=\"dataframe\">\n",
       "  <thead>\n",
       "    <tr style=\"text-align: right;\">\n",
       "      <th></th>\n",
       "      <th>cate</th>\n",
       "      <th>user_id</th>\n",
       "      <th>sku_id</th>\n",
       "      <th>brand</th>\n",
       "      <th>shop_id</th>\n",
       "      <th>type</th>\n",
       "      <th>sex</th>\n",
       "      <th>age</th>\n",
       "      <th>user_lv_cd</th>\n",
       "      <th>city_level</th>\n",
       "    </tr>\n",
       "  </thead>\n",
       "  <tbody>\n",
       "    <tr>\n",
       "      <th>count</th>\n",
       "      <td>1.975989e+06</td>\n",
       "      <td>1.975989e+06</td>\n",
       "      <td>1.975989e+06</td>\n",
       "      <td>1.975989e+06</td>\n",
       "      <td>1.975989e+06</td>\n",
       "      <td>1975989.0</td>\n",
       "      <td>1.975989e+06</td>\n",
       "      <td>1.975989e+06</td>\n",
       "      <td>1.975989e+06</td>\n",
       "      <td>1.975989e+06</td>\n",
       "    </tr>\n",
       "    <tr>\n",
       "      <th>mean</th>\n",
       "      <td>4.022768e+01</td>\n",
       "      <td>8.038508e+05</td>\n",
       "      <td>1.903757e+05</td>\n",
       "      <td>5.081174e+03</td>\n",
       "      <td>5.170531e+03</td>\n",
       "      <td>2.0</td>\n",
       "      <td>4.291036e-01</td>\n",
       "      <td>4.645014e+00</td>\n",
       "      <td>4.524825e+00</td>\n",
       "      <td>3.319691e+00</td>\n",
       "    </tr>\n",
       "    <tr>\n",
       "      <th>std</th>\n",
       "      <td>2.556894e+01</td>\n",
       "      <td>4.643388e+05</td>\n",
       "      <td>1.087322e+05</td>\n",
       "      <td>3.222303e+03</td>\n",
       "      <td>3.007234e+03</td>\n",
       "      <td>0.0</td>\n",
       "      <td>5.055324e-01</td>\n",
       "      <td>1.467270e+00</td>\n",
       "      <td>2.380551e+00</td>\n",
       "      <td>1.416086e+00</td>\n",
       "    </tr>\n",
       "    <tr>\n",
       "      <th>min</th>\n",
       "      <td>1.000000e+00</td>\n",
       "      <td>1.000000e+00</td>\n",
       "      <td>1.300000e+01</td>\n",
       "      <td>1.000000e+00</td>\n",
       "      <td>1.000000e+00</td>\n",
       "      <td>2.0</td>\n",
       "      <td>-1.000000e+00</td>\n",
       "      <td>1.000000e+00</td>\n",
       "      <td>1.000000e+00</td>\n",
       "      <td>1.000000e+00</td>\n",
       "    </tr>\n",
       "    <tr>\n",
       "      <th>25%</th>\n",
       "      <td>2.000000e+01</td>\n",
       "      <td>4.018390e+05</td>\n",
       "      <td>9.745500e+04</td>\n",
       "      <td>2.484000e+03</td>\n",
       "      <td>2.491000e+03</td>\n",
       "      <td>2.0</td>\n",
       "      <td>0.000000e+00</td>\n",
       "      <td>4.000000e+00</td>\n",
       "      <td>1.000000e+00</td>\n",
       "      <td>3.000000e+00</td>\n",
       "    </tr>\n",
       "    <tr>\n",
       "      <th>50%</th>\n",
       "      <td>3.400000e+01</td>\n",
       "      <td>8.035930e+05</td>\n",
       "      <td>1.889230e+05</td>\n",
       "      <td>4.491000e+03</td>\n",
       "      <td>5.166000e+03</td>\n",
       "      <td>2.0</td>\n",
       "      <td>0.000000e+00</td>\n",
       "      <td>5.000000e+00</td>\n",
       "      <td>5.000000e+00</td>\n",
       "      <td>4.000000e+00</td>\n",
       "    </tr>\n",
       "    <tr>\n",
       "      <th>75%</th>\n",
       "      <td>6.900000e+01</td>\n",
       "      <td>1.206128e+06</td>\n",
       "      <td>2.856360e+05</td>\n",
       "      <td>7.954000e+03</td>\n",
       "      <td>7.831000e+03</td>\n",
       "      <td>2.0</td>\n",
       "      <td>1.000000e+00</td>\n",
       "      <td>6.000000e+00</td>\n",
       "      <td>6.000000e+00</td>\n",
       "      <td>4.000000e+00</td>\n",
       "    </tr>\n",
       "    <tr>\n",
       "      <th>max</th>\n",
       "      <td>8.100000e+01</td>\n",
       "      <td>1.608707e+06</td>\n",
       "      <td>3.784560e+05</td>\n",
       "      <td>1.119900e+04</td>\n",
       "      <td>1.039900e+04</td>\n",
       "      <td>2.0</td>\n",
       "      <td>1.000000e+00</td>\n",
       "      <td>6.000000e+00</td>\n",
       "      <td>7.000000e+00</td>\n",
       "      <td>6.000000e+00</td>\n",
       "    </tr>\n",
       "  </tbody>\n",
       "</table>\n",
       "</div>"
      ],
      "text/plain": [
       "               cate       user_id        sku_id         brand       shop_id  \\\n",
       "count  1.975989e+06  1.975989e+06  1.975989e+06  1.975989e+06  1.975989e+06   \n",
       "mean   4.022768e+01  8.038508e+05  1.903757e+05  5.081174e+03  5.170531e+03   \n",
       "std    2.556894e+01  4.643388e+05  1.087322e+05  3.222303e+03  3.007234e+03   \n",
       "min    1.000000e+00  1.000000e+00  1.300000e+01  1.000000e+00  1.000000e+00   \n",
       "25%    2.000000e+01  4.018390e+05  9.745500e+04  2.484000e+03  2.491000e+03   \n",
       "50%    3.400000e+01  8.035930e+05  1.889230e+05  4.491000e+03  5.166000e+03   \n",
       "75%    6.900000e+01  1.206128e+06  2.856360e+05  7.954000e+03  7.831000e+03   \n",
       "max    8.100000e+01  1.608707e+06  3.784560e+05  1.119900e+04  1.039900e+04   \n",
       "\n",
       "            type           sex           age    user_lv_cd    city_level  \n",
       "count  1975989.0  1.975989e+06  1.975989e+06  1.975989e+06  1.975989e+06  \n",
       "mean         2.0  4.291036e-01  4.645014e+00  4.524825e+00  3.319691e+00  \n",
       "std          0.0  5.055324e-01  1.467270e+00  2.380551e+00  1.416086e+00  \n",
       "min          2.0 -1.000000e+00  1.000000e+00  1.000000e+00  1.000000e+00  \n",
       "25%          2.0  0.000000e+00  4.000000e+00  1.000000e+00  3.000000e+00  \n",
       "50%          2.0  0.000000e+00  5.000000e+00  5.000000e+00  4.000000e+00  \n",
       "75%          2.0  1.000000e+00  6.000000e+00  6.000000e+00  4.000000e+00  \n",
       "max          2.0  1.000000e+00  6.000000e+00  7.000000e+00  6.000000e+00  "
      ]
     },
     "execution_count": 34,
     "metadata": {},
     "output_type": "execute_result"
    }
   ],
   "source": [
    "train_df.describe()"
   ]
  },
  {
   "cell_type": "code",
   "execution_count": 35,
   "metadata": {},
   "outputs": [
    {
     "data": {
      "text/plain": [
       "(1975989, 11)"
      ]
     },
     "execution_count": 35,
     "metadata": {},
     "output_type": "execute_result"
    }
   ],
   "source": [
    "train_df.shape"
   ]
  },
  {
   "cell_type": "code",
   "execution_count": 36,
   "metadata": {},
   "outputs": [],
   "source": [
    "#Outliers"
   ]
  },
  {
   "cell_type": "code",
   "execution_count": 37,
   "metadata": {},
   "outputs": [],
   "source": [
    "#statistic each product id sale in train set"
   ]
  },
  {
   "cell_type": "code",
   "execution_count": 41,
   "metadata": {},
   "outputs": [
    {
     "data": {
      "text/plain": [
       "Text(0, 0.5, 'sales')"
      ]
     },
     "execution_count": 41,
     "metadata": {},
     "output_type": "execute_result"
    },
    {
     "data": {
      "image/png": "[encoded data removed]",
      "text/plain": [
       "<Figure size 1152x576 with 1 Axes>"
      ]
     },
     "metadata": {
      "needs_background": "light"
     },
     "output_type": "display_data"
    }
   ],
   "source": [
    "plt.figure(figsize=(16,8))\n",
    "train_df['sku_id'].value_counts(normalize=True)[:100].plot(kind='bar',color='darkorange')\n",
    "plt.title('product sales')\n",
    "plt.xlabel('product_id')\n",
    "plt.ylabel('sales')"
   ]
  },
  {
   "cell_type": "code",
   "execution_count": 42,
   "metadata": {},
   "outputs": [
    {
     "data": {
      "text/plain": [
       "152092    7724\n",
       "37284     5457\n",
       "107331    5407\n",
       "19643     5341\n",
       "232801    5126\n",
       "Name: sku_id, dtype: int64"
      ]
     },
     "execution_count": 42,
     "metadata": {},
     "output_type": "execute_result"
    }
   ],
   "source": [
    "train_df['sku_id'].value_counts(ascending=False)[:5]"
   ]
  },
  {
   "cell_type": "code",
   "execution_count": 43,
   "metadata": {},
   "outputs": [],
   "source": [
    "#product 152092 is much higher, we extract its records"
   ]
  },
  {
   "cell_type": "code",
   "execution_count": 44,
   "metadata": {},
   "outputs": [
    {
     "data": {
      "text/html": [
       "<div>\n",
       "<style scoped>\n",
       "    .dataframe tbody tr th:only-of-type {\n",
       "        vertical-align: middle;\n",
       "    }\n",
       "\n",
       "    .dataframe tbody tr th {\n",
       "        vertical-align: top;\n",
       "    }\n",
       "\n",
       "    .dataframe thead th {\n",
       "        text-align: right;\n",
       "    }\n",
       "</style>\n",
       "<table border=\"1\" class=\"dataframe\">\n",
       "  <thead>\n",
       "    <tr style=\"text-align: right;\">\n",
       "      <th></th>\n",
       "      <th>cate</th>\n",
       "      <th>user_id</th>\n",
       "      <th>sku_id</th>\n",
       "      <th>action_time</th>\n",
       "      <th>brand</th>\n",
       "      <th>shop_id</th>\n",
       "      <th>type</th>\n",
       "      <th>sex</th>\n",
       "      <th>age</th>\n",
       "      <th>user_lv_cd</th>\n",
       "      <th>city_level</th>\n",
       "    </tr>\n",
       "  </thead>\n",
       "  <tbody>\n",
       "    <tr>\n",
       "      <th>9610</th>\n",
       "      <td>69</td>\n",
       "      <td>161965</td>\n",
       "      <td>152092</td>\n",
       "      <td>2018-03-13 11:55:12.0</td>\n",
       "      <td>5277</td>\n",
       "      <td>4005</td>\n",
       "      <td>2</td>\n",
       "      <td>1.0</td>\n",
       "      <td>5.0</td>\n",
       "      <td>5</td>\n",
       "      <td>5.0</td>\n",
       "    </tr>\n",
       "    <tr>\n",
       "      <th>9627</th>\n",
       "      <td>69</td>\n",
       "      <td>1092</td>\n",
       "      <td>152092</td>\n",
       "      <td>2018-03-29 17:08:11.0</td>\n",
       "      <td>5277</td>\n",
       "      <td>4005</td>\n",
       "      <td>2</td>\n",
       "      <td>0.0</td>\n",
       "      <td>6.0</td>\n",
       "      <td>6</td>\n",
       "      <td>4.0</td>\n",
       "    </tr>\n",
       "    <tr>\n",
       "      <th>9659</th>\n",
       "      <td>69</td>\n",
       "      <td>1204522</td>\n",
       "      <td>152092</td>\n",
       "      <td>2018-02-06 09:09:21.0</td>\n",
       "      <td>5277</td>\n",
       "      <td>4005</td>\n",
       "      <td>2</td>\n",
       "      <td>0.0</td>\n",
       "      <td>5.0</td>\n",
       "      <td>5</td>\n",
       "      <td>4.0</td>\n",
       "    </tr>\n",
       "    <tr>\n",
       "      <th>9661</th>\n",
       "      <td>69</td>\n",
       "      <td>333311</td>\n",
       "      <td>152092</td>\n",
       "      <td>2018-04-03 09:28:48.0</td>\n",
       "      <td>5277</td>\n",
       "      <td>4005</td>\n",
       "      <td>2</td>\n",
       "      <td>0.0</td>\n",
       "      <td>5.0</td>\n",
       "      <td>1</td>\n",
       "      <td>4.0</td>\n",
       "    </tr>\n",
       "    <tr>\n",
       "      <th>9670</th>\n",
       "      <td>69</td>\n",
       "      <td>640484</td>\n",
       "      <td>152092</td>\n",
       "      <td>2018-02-11 07:39:09.0</td>\n",
       "      <td>5277</td>\n",
       "      <td>4005</td>\n",
       "      <td>2</td>\n",
       "      <td>0.0</td>\n",
       "      <td>6.0</td>\n",
       "      <td>6</td>\n",
       "      <td>4.0</td>\n",
       "    </tr>\n",
       "    <tr>\n",
       "      <th>...</th>\n",
       "      <td>...</td>\n",
       "      <td>...</td>\n",
       "      <td>...</td>\n",
       "      <td>...</td>\n",
       "      <td>...</td>\n",
       "      <td>...</td>\n",
       "      <td>...</td>\n",
       "      <td>...</td>\n",
       "      <td>...</td>\n",
       "      <td>...</td>\n",
       "      <td>...</td>\n",
       "    </tr>\n",
       "    <tr>\n",
       "      <th>1972808</th>\n",
       "      <td>69</td>\n",
       "      <td>257777</td>\n",
       "      <td>152092</td>\n",
       "      <td>2018-03-23 13:43:13.0</td>\n",
       "      <td>5277</td>\n",
       "      <td>4005</td>\n",
       "      <td>2</td>\n",
       "      <td>1.0</td>\n",
       "      <td>6.0</td>\n",
       "      <td>6</td>\n",
       "      <td>1.0</td>\n",
       "    </tr>\n",
       "    <tr>\n",
       "      <th>1972846</th>\n",
       "      <td>69</td>\n",
       "      <td>508957</td>\n",
       "      <td>152092</td>\n",
       "      <td>2018-02-05 19:45:08.0</td>\n",
       "      <td>5277</td>\n",
       "      <td>4005</td>\n",
       "      <td>2</td>\n",
       "      <td>0.0</td>\n",
       "      <td>6.0</td>\n",
       "      <td>1</td>\n",
       "      <td>5.0</td>\n",
       "    </tr>\n",
       "    <tr>\n",
       "      <th>1972878</th>\n",
       "      <td>69</td>\n",
       "      <td>1337253</td>\n",
       "      <td>152092</td>\n",
       "      <td>2018-03-26 23:43:00.0</td>\n",
       "      <td>5277</td>\n",
       "      <td>4005</td>\n",
       "      <td>2</td>\n",
       "      <td>0.0</td>\n",
       "      <td>2.0</td>\n",
       "      <td>1</td>\n",
       "      <td>5.0</td>\n",
       "    </tr>\n",
       "    <tr>\n",
       "      <th>1972879</th>\n",
       "      <td>69</td>\n",
       "      <td>1022656</td>\n",
       "      <td>152092</td>\n",
       "      <td>2018-02-17 19:13:11.0</td>\n",
       "      <td>5277</td>\n",
       "      <td>4005</td>\n",
       "      <td>2</td>\n",
       "      <td>0.0</td>\n",
       "      <td>5.0</td>\n",
       "      <td>7</td>\n",
       "      <td>5.0</td>\n",
       "    </tr>\n",
       "    <tr>\n",
       "      <th>1972885</th>\n",
       "      <td>69</td>\n",
       "      <td>462970</td>\n",
       "      <td>152092</td>\n",
       "      <td>2018-03-25 15:46:03.0</td>\n",
       "      <td>5277</td>\n",
       "      <td>4005</td>\n",
       "      <td>2</td>\n",
       "      <td>0.0</td>\n",
       "      <td>5.0</td>\n",
       "      <td>1</td>\n",
       "      <td>4.0</td>\n",
       "    </tr>\n",
       "  </tbody>\n",
       "</table>\n",
       "<p>7724 rows × 11 columns</p>\n",
       "</div>"
      ],
      "text/plain": [
       "         cate  user_id  sku_id            action_time  brand  shop_id  type  \\\n",
       "9610       69   161965  152092  2018-03-13 11:55:12.0   5277     4005     2   \n",
       "9627       69     1092  152092  2018-03-29 17:08:11.0   5277     4005     2   \n",
       "9659       69  1204522  152092  2018-02-06 09:09:21.0   5277     4005     2   \n",
       "9661       69   333311  152092  2018-04-03 09:28:48.0   5277     4005     2   \n",
       "9670       69   640484  152092  2018-02-11 07:39:09.0   5277     4005     2   \n",
       "...       ...      ...     ...                    ...    ...      ...   ...   \n",
       "1972808    69   257777  152092  2018-03-23 13:43:13.0   5277     4005     2   \n",
       "1972846    69   508957  152092  2018-02-05 19:45:08.0   5277     4005     2   \n",
       "1972878    69  1337253  152092  2018-03-26 23:43:00.0   5277     4005     2   \n",
       "1972879    69  1022656  152092  2018-02-17 19:13:11.0   5277     4005     2   \n",
       "1972885    69   462970  152092  2018-03-25 15:46:03.0   5277     4005     2   \n",
       "\n",
       "         sex  age  user_lv_cd  city_level  \n",
       "9610     1.0  5.0           5         5.0  \n",
       "9627     0.0  6.0           6         4.0  \n",
       "9659     0.0  5.0           5         4.0  \n",
       "9661     0.0  5.0           1         4.0  \n",
       "9670     0.0  6.0           6         4.0  \n",
       "...      ...  ...         ...         ...  \n",
       "1972808  1.0  6.0           6         1.0  \n",
       "1972846  0.0  6.0           1         5.0  \n",
       "1972878  0.0  2.0           1         5.0  \n",
       "1972879  0.0  5.0           7         5.0  \n",
       "1972885  0.0  5.0           1         4.0  \n",
       "\n",
       "[7724 rows x 11 columns]"
      ]
     },
     "execution_count": 44,
     "metadata": {},
     "output_type": "execute_result"
    }
   ],
   "source": [
    "train_df[train_df['sku_id']==152092]"
   ]
  },
  {
   "cell_type": "code",
   "execution_count": 49,
   "metadata": {},
   "outputs": [
    {
     "data": {
      "text/plain": [
       "1          20180302\n",
       "2          20180206\n",
       "3          20180308\n",
       "4          20180205\n",
       "5          20180218\n",
       "             ...   \n",
       "1978959    20180403\n",
       "1978960    20180304\n",
       "1978961    20180312\n",
       "1978962    20180313\n",
       "1978963    20180211\n",
       "Name: action_time, Length: 1975989, dtype: object"
      ]
     },
     "execution_count": 49,
     "metadata": {},
     "output_type": "execute_result"
    }
   ],
   "source": [
    "train_df['action_time']=pd.to_datetime(train_df['action_time']).dt.strftime('%Y%m%d')\n",
    "train_df['action_time']"
   ]
  },
  {
   "cell_type": "code",
   "execution_count": 68,
   "metadata": {},
   "outputs": [
    {
     "data": {
      "text/plain": [
       "action_time\n",
       "20180328    380\n",
       "20180312    272\n",
       "20180204    253\n",
       "20180228    214\n",
       "20180205    193\n",
       "           ... \n",
       "20180218     37\n",
       "20180217     35\n",
       "20180214     31\n",
       "20180216     22\n",
       "20180215     20\n",
       "Length: 68, dtype: int64"
      ]
     },
     "execution_count": 68,
     "metadata": {},
     "output_type": "execute_result"
    }
   ],
   "source": [
    "train_df[train_df['sku_id']==152092].value_counts('action_time')"
   ]
  },
  {
   "cell_type": "code",
   "execution_count": 69,
   "metadata": {},
   "outputs": [
    {
     "data": {
      "text/plain": [
       "Text(0, 0.5, 'sales')"
      ]
     },
     "execution_count": 69,
     "metadata": {},
     "output_type": "execute_result"
    },
    {
     "data": {
      "image/png": "[encoded data removed]",
      "text/plain": [
       "<Figure size 1152x576 with 1 Axes>"
      ]
     },
     "metadata": {
      "needs_background": "light"
     },
     "output_type": "display_data"
    }
   ],
   "source": [
    "plt.figure(figsize=(16,8))\n",
    "train_df[train_df['sku_id']==152092].value_counts('action_time').plot(kind='bar',color='darkorange')\n",
    "plt.title('product 152092 sales each day')\n",
    "plt.xlabel('time')\n",
    "plt.ylabel('sales')"
   ]
  },
  {
   "cell_type": "code",
   "execution_count": 70,
   "metadata": {},
   "outputs": [],
   "source": [
    "#we find that the sale of 2018-03-28 is higher"
   ]
  },
  {
   "cell_type": "code",
   "execution_count": 71,
   "metadata": {},
   "outputs": [],
   "source": [
    "#we consider to delete the data"
   ]
  },
  {
   "cell_type": "code",
   "execution_count": 114,
   "metadata": {},
   "outputs": [],
   "source": [
    "train_clear1=train_df.drop(train_df[(train_df['action_time']==20180328)&(train_df['sku_id']==152092)].index)"
   ]
  },
  {
   "cell_type": "code",
   "execution_count": 118,
   "metadata": {},
   "outputs": [
    {
     "data": {
      "text/plain": [
       "(1975989, 11)"
      ]
     },
     "execution_count": 118,
     "metadata": {},
     "output_type": "execute_result"
    }
   ],
   "source": [
    "train_clear1.shape"
   ]
  },
  {
   "cell_type": "code",
   "execution_count": 102,
   "metadata": {},
   "outputs": [
    {
     "data": {
      "text/plain": [
       "False"
      ]
     },
     "execution_count": 102,
     "metadata": {},
     "output_type": "execute_result"
    }
   ],
   "source": [
    "pd.isnull(train_clear1).values.any()"
   ]
  },
  {
   "cell_type": "code",
   "execution_count": 104,
   "metadata": {},
   "outputs": [
    {
     "data": {
      "text/plain": [
       "52710     1\n",
       "351916    1\n",
       "376496    1\n",
       "368308    1\n",
       "25092     1\n",
       "29190     1\n",
       "49680     1\n",
       "53778     1\n",
       "39451     1\n",
       "66088     1\n",
       "Name: sku_id, dtype: int64"
      ]
     },
     "execution_count": 104,
     "metadata": {},
     "output_type": "execute_result"
    }
   ],
   "source": [
    "train_clear1['sku_id'].value_counts(ascending=True)[:10]"
   ]
  },
  {
   "cell_type": "code",
   "execution_count": 119,
   "metadata": {},
   "outputs": [],
   "source": [
    "#category sale distribution"
   ]
  },
  {
   "cell_type": "code",
   "execution_count": 122,
   "metadata": {},
   "outputs": [
    {
     "data": {
      "text/plain": [
       "Text(0, 0.5, 'sales')"
      ]
     },
     "execution_count": 122,
     "metadata": {},
     "output_type": "execute_result"
    },
    {
     "data": {
      "image/png": "[encoded data removed]",
      "text/plain": [
       "<Figure size 1152x576 with 1 Axes>"
      ]
     },
     "metadata": {
      "needs_background": "light"
     },
     "output_type": "display_data"
    }
   ],
   "source": [
    "plt.figure(figsize=(16,8))\n",
    "train_clear1['cate'].value_counts(normalize=True).plot(kind='bar',color='darkorange')\n",
    "plt.title('cate sales')\n",
    "plt.xlabel('category id')\n",
    "plt.ylabel('sales')"
   ]
  },
  {
   "cell_type": "code",
   "execution_count": null,
   "metadata": {},
   "outputs": [],
   "source": [
    "#skewness"
   ]
  },
  {
   "cell_type": "code",
   "execution_count": 127,
   "metadata": {},
   "outputs": [
    {
     "data": {
      "text/plain": [
       "array(3.43475203)"
      ]
     },
     "execution_count": 127,
     "metadata": {},
     "output_type": "execute_result"
    }
   ],
   "source": [
    "stats.mstats.skew(train_clear1['cate'].value_counts(normalize=True)).data"
   ]
  },
  {
   "cell_type": "code",
   "execution_count": 128,
   "metadata": {},
   "outputs": [],
   "source": [
    "#skewness is 3.43, the data is skewed"
   ]
  },
  {
   "cell_type": "code",
   "execution_count": 130,
   "metadata": {},
   "outputs": [
    {
     "data": {
      "text/plain": [
       "array(-0.93560243)"
      ]
     },
     "execution_count": 130,
     "metadata": {},
     "output_type": "execute_result"
    }
   ],
   "source": [
    "stats.mstats.skew(np.log(train_clear1['cate'].value_counts(normalize=True))).data"
   ]
  },
  {
   "cell_type": "code",
   "execution_count": 133,
   "metadata": {},
   "outputs": [
    {
     "data": {
      "text/plain": [
       "Text(0, 0.5, 'sales')"
      ]
     },
     "execution_count": 133,
     "metadata": {},
     "output_type": "execute_result"
    },
    {
     "data": {
      "image/png": "[encoded data removed]",
      "text/plain": [
       "<Figure size 1152x576 with 1 Axes>"
      ]
     },
     "metadata": {
      "needs_background": "light"
     },
     "output_type": "display_data"
    }
   ],
   "source": [
    "plt.figure(figsize=(16,8))\n",
    "np.log(train_clear1['cate'].value_counts(normalize=True)).plot(kind='bar',color='darkorange')\n",
    "plt.title('cate sales')\n",
    "plt.xlabel('category id')\n",
    "plt.ylabel('sales')"
   ]
  },
  {
   "cell_type": "code",
   "execution_count": 134,
   "metadata": {},
   "outputs": [],
   "source": [
    "#corplot"
   ]
  },
  {
   "cell_type": "code",
   "execution_count": 137,
   "metadata": {},
   "outputs": [
    {
     "data": {
      "text/plain": [
       "<AxesSubplot:>"
      ]
     },
     "execution_count": 137,
     "metadata": {},
     "output_type": "execute_result"
    },
    {
     "data": {
      "image/png": "[encoded data removed]",
      "text/plain": [
       "<Figure size 1152x648 with 2 Axes>"
      ]
     },
     "metadata": {
      "needs_background": "light"
     },
     "output_type": "display_data"
    }
   ],
   "source": [
    "plt.subplots(figsize=(16,9))\n",
    "correlation_mat=train_clear1.corr()\n",
    "sns.heatmap(correlation_mat,annot=True)"
   ]
  },
  {
   "cell_type": "code",
   "execution_count": 148,
   "metadata": {},
   "outputs": [],
   "source": [
    "train_clear2=train_clear1.drop(['type','sku_id'],axis=1)"
   ]
  },
  {
   "cell_type": "code",
   "execution_count": 149,
   "metadata": {},
   "outputs": [
    {
     "data": {
      "text/plain": [
       "(1975989, 9)"
      ]
     },
     "execution_count": 149,
     "metadata": {},
     "output_type": "execute_result"
    }
   ],
   "source": [
    "train_clear2.shape"
   ]
  },
  {
   "cell_type": "code",
   "execution_count": 163,
   "metadata": {},
   "outputs": [],
   "source": [
    "#change action time to number representing"
   ]
  },
  {
   "cell_type": "code",
   "execution_count": 161,
   "metadata": {},
   "outputs": [],
   "source": [
    "from sklearn import preprocessing\n",
    "label_encoder = preprocessing.LabelEncoder()\n",
    "train_clear2['date_num'] = label_encoder.fit_transform(train_clear2['action_time'])"
   ]
  },
  {
   "cell_type": "code",
   "execution_count": 164,
   "metadata": {},
   "outputs": [
    {
     "data": {
      "text/html": [
       "<div>\n",
       "<style scoped>\n",
       "    .dataframe tbody tr th:only-of-type {\n",
       "        vertical-align: middle;\n",
       "    }\n",
       "\n",
       "    .dataframe tbody tr th {\n",
       "        vertical-align: top;\n",
       "    }\n",
       "\n",
       "    .dataframe thead th {\n",
       "        text-align: right;\n",
       "    }\n",
       "</style>\n",
       "<table border=\"1\" class=\"dataframe\">\n",
       "  <thead>\n",
       "    <tr style=\"text-align: right;\">\n",
       "      <th></th>\n",
       "      <th>cate</th>\n",
       "      <th>user_id</th>\n",
       "      <th>action_time</th>\n",
       "      <th>brand</th>\n",
       "      <th>shop_id</th>\n",
       "      <th>sex</th>\n",
       "      <th>age</th>\n",
       "      <th>user_lv_cd</th>\n",
       "      <th>city_level</th>\n",
       "      <th>date_num</th>\n",
       "    </tr>\n",
       "  </thead>\n",
       "  <tbody>\n",
       "    <tr>\n",
       "      <th>1</th>\n",
       "      <td>79</td>\n",
       "      <td>1008776</td>\n",
       "      <td>20180302</td>\n",
       "      <td>10511</td>\n",
       "      <td>9665</td>\n",
       "      <td>0.0</td>\n",
       "      <td>6.0</td>\n",
       "      <td>7</td>\n",
       "      <td>4.0</td>\n",
       "      <td>29</td>\n",
       "    </tr>\n",
       "    <tr>\n",
       "      <th>2</th>\n",
       "      <td>79</td>\n",
       "      <td>1569797</td>\n",
       "      <td>20180206</td>\n",
       "      <td>4854</td>\n",
       "      <td>79</td>\n",
       "      <td>1.0</td>\n",
       "      <td>5.0</td>\n",
       "      <td>5</td>\n",
       "      <td>4.0</td>\n",
       "      <td>5</td>\n",
       "    </tr>\n",
       "    <tr>\n",
       "      <th>3</th>\n",
       "      <td>79</td>\n",
       "      <td>1066676</td>\n",
       "      <td>20180308</td>\n",
       "      <td>1226</td>\n",
       "      <td>7129</td>\n",
       "      <td>1.0</td>\n",
       "      <td>6.0</td>\n",
       "      <td>7</td>\n",
       "      <td>1.0</td>\n",
       "      <td>35</td>\n",
       "    </tr>\n",
       "    <tr>\n",
       "      <th>4</th>\n",
       "      <td>79</td>\n",
       "      <td>1314628</td>\n",
       "      <td>20180205</td>\n",
       "      <td>5700</td>\n",
       "      <td>1553</td>\n",
       "      <td>1.0</td>\n",
       "      <td>5.0</td>\n",
       "      <td>5</td>\n",
       "      <td>1.0</td>\n",
       "      <td>4</td>\n",
       "    </tr>\n",
       "    <tr>\n",
       "      <th>5</th>\n",
       "      <td>79</td>\n",
       "      <td>982912</td>\n",
       "      <td>20180218</td>\n",
       "      <td>1898</td>\n",
       "      <td>1182</td>\n",
       "      <td>0.0</td>\n",
       "      <td>5.0</td>\n",
       "      <td>5</td>\n",
       "      <td>1.0</td>\n",
       "      <td>17</td>\n",
       "    </tr>\n",
       "    <tr>\n",
       "      <th>...</th>\n",
       "      <td>...</td>\n",
       "      <td>...</td>\n",
       "      <td>...</td>\n",
       "      <td>...</td>\n",
       "      <td>...</td>\n",
       "      <td>...</td>\n",
       "      <td>...</td>\n",
       "      <td>...</td>\n",
       "      <td>...</td>\n",
       "      <td>...</td>\n",
       "    </tr>\n",
       "    <tr>\n",
       "      <th>1978959</th>\n",
       "      <td>3</td>\n",
       "      <td>254643</td>\n",
       "      <td>20180403</td>\n",
       "      <td>4854</td>\n",
       "      <td>5338</td>\n",
       "      <td>1.0</td>\n",
       "      <td>5.0</td>\n",
       "      <td>1</td>\n",
       "      <td>4.0</td>\n",
       "      <td>61</td>\n",
       "    </tr>\n",
       "    <tr>\n",
       "      <th>1978960</th>\n",
       "      <td>24</td>\n",
       "      <td>1233285</td>\n",
       "      <td>20180304</td>\n",
       "      <td>2540</td>\n",
       "      <td>4211</td>\n",
       "      <td>1.0</td>\n",
       "      <td>6.0</td>\n",
       "      <td>7</td>\n",
       "      <td>4.0</td>\n",
       "      <td>31</td>\n",
       "    </tr>\n",
       "    <tr>\n",
       "      <th>1978961</th>\n",
       "      <td>10</td>\n",
       "      <td>138926</td>\n",
       "      <td>20180312</td>\n",
       "      <td>8570</td>\n",
       "      <td>2738</td>\n",
       "      <td>0.0</td>\n",
       "      <td>5.0</td>\n",
       "      <td>6</td>\n",
       "      <td>5.0</td>\n",
       "      <td>39</td>\n",
       "    </tr>\n",
       "    <tr>\n",
       "      <th>1978962</th>\n",
       "      <td>45</td>\n",
       "      <td>118627</td>\n",
       "      <td>20180313</td>\n",
       "      <td>5309</td>\n",
       "      <td>7400</td>\n",
       "      <td>0.0</td>\n",
       "      <td>5.0</td>\n",
       "      <td>1</td>\n",
       "      <td>4.0</td>\n",
       "      <td>40</td>\n",
       "    </tr>\n",
       "    <tr>\n",
       "      <th>1978963</th>\n",
       "      <td>31</td>\n",
       "      <td>767401</td>\n",
       "      <td>20180211</td>\n",
       "      <td>8734</td>\n",
       "      <td>7918</td>\n",
       "      <td>0.0</td>\n",
       "      <td>5.0</td>\n",
       "      <td>7</td>\n",
       "      <td>1.0</td>\n",
       "      <td>10</td>\n",
       "    </tr>\n",
       "  </tbody>\n",
       "</table>\n",
       "<p>1975989 rows × 10 columns</p>\n",
       "</div>"
      ],
      "text/plain": [
       "         cate  user_id action_time  brand  shop_id  sex  age  user_lv_cd  \\\n",
       "1          79  1008776    20180302  10511     9665  0.0  6.0           7   \n",
       "2          79  1569797    20180206   4854       79  1.0  5.0           5   \n",
       "3          79  1066676    20180308   1226     7129  1.0  6.0           7   \n",
       "4          79  1314628    20180205   5700     1553  1.0  5.0           5   \n",
       "5          79   982912    20180218   1898     1182  0.0  5.0           5   \n",
       "...       ...      ...         ...    ...      ...  ...  ...         ...   \n",
       "1978959     3   254643    20180403   4854     5338  1.0  5.0           1   \n",
       "1978960    24  1233285    20180304   2540     4211  1.0  6.0           7   \n",
       "1978961    10   138926    20180312   8570     2738  0.0  5.0           6   \n",
       "1978962    45   118627    20180313   5309     7400  0.0  5.0           1   \n",
       "1978963    31   767401    20180211   8734     7918  0.0  5.0           7   \n",
       "\n",
       "         city_level  date_num  \n",
       "1               4.0        29  \n",
       "2               4.0         5  \n",
       "3               1.0        35  \n",
       "4               1.0         4  \n",
       "5               1.0        17  \n",
       "...             ...       ...  \n",
       "1978959         4.0        61  \n",
       "1978960         4.0        31  \n",
       "1978961         5.0        39  \n",
       "1978962         4.0        40  \n",
       "1978963         1.0        10  \n",
       "\n",
       "[1975989 rows x 10 columns]"
      ]
     },
     "execution_count": 164,
     "metadata": {},
     "output_type": "execute_result"
    }
   ],
   "source": [
    "train_clear2"
   ]
  },
  {
   "cell_type": "code",
   "execution_count": 165,
   "metadata": {},
   "outputs": [],
   "source": [
    "#drop action time column"
   ]
  },
  {
   "cell_type": "code",
   "execution_count": 166,
   "metadata": {},
   "outputs": [],
   "source": [
    "train_clear3=train_clear2.drop(['action_time'],axis=1)"
   ]
  },
  {
   "cell_type": "code",
   "execution_count": 167,
   "metadata": {},
   "outputs": [
    {
     "data": {
      "text/html": [
       "<div>\n",
       "<style scoped>\n",
       "    .dataframe tbody tr th:only-of-type {\n",
       "        vertical-align: middle;\n",
       "    }\n",
       "\n",
       "    .dataframe tbody tr th {\n",
       "        vertical-align: top;\n",
       "    }\n",
       "\n",
       "    .dataframe thead th {\n",
       "        text-align: right;\n",
       "    }\n",
       "</style>\n",
       "<table border=\"1\" class=\"dataframe\">\n",
       "  <thead>\n",
       "    <tr style=\"text-align: right;\">\n",
       "      <th></th>\n",
       "      <th>cate</th>\n",
       "      <th>user_id</th>\n",
       "      <th>brand</th>\n",
       "      <th>shop_id</th>\n",
       "      <th>sex</th>\n",
       "      <th>age</th>\n",
       "      <th>user_lv_cd</th>\n",
       "      <th>city_level</th>\n",
       "      <th>date_num</th>\n",
       "    </tr>\n",
       "  </thead>\n",
       "  <tbody>\n",
       "    <tr>\n",
       "      <th>1</th>\n",
       "      <td>79</td>\n",
       "      <td>1008776</td>\n",
       "      <td>10511</td>\n",
       "      <td>9665</td>\n",
       "      <td>0.0</td>\n",
       "      <td>6.0</td>\n",
       "      <td>7</td>\n",
       "      <td>4.0</td>\n",
       "      <td>29</td>\n",
       "    </tr>\n",
       "    <tr>\n",
       "      <th>2</th>\n",
       "      <td>79</td>\n",
       "      <td>1569797</td>\n",
       "      <td>4854</td>\n",
       "      <td>79</td>\n",
       "      <td>1.0</td>\n",
       "      <td>5.0</td>\n",
       "      <td>5</td>\n",
       "      <td>4.0</td>\n",
       "      <td>5</td>\n",
       "    </tr>\n",
       "    <tr>\n",
       "      <th>3</th>\n",
       "      <td>79</td>\n",
       "      <td>1066676</td>\n",
       "      <td>1226</td>\n",
       "      <td>7129</td>\n",
       "      <td>1.0</td>\n",
       "      <td>6.0</td>\n",
       "      <td>7</td>\n",
       "      <td>1.0</td>\n",
       "      <td>35</td>\n",
       "    </tr>\n",
       "    <tr>\n",
       "      <th>4</th>\n",
       "      <td>79</td>\n",
       "      <td>1314628</td>\n",
       "      <td>5700</td>\n",
       "      <td>1553</td>\n",
       "      <td>1.0</td>\n",
       "      <td>5.0</td>\n",
       "      <td>5</td>\n",
       "      <td>1.0</td>\n",
       "      <td>4</td>\n",
       "    </tr>\n",
       "    <tr>\n",
       "      <th>5</th>\n",
       "      <td>79</td>\n",
       "      <td>982912</td>\n",
       "      <td>1898</td>\n",
       "      <td>1182</td>\n",
       "      <td>0.0</td>\n",
       "      <td>5.0</td>\n",
       "      <td>5</td>\n",
       "      <td>1.0</td>\n",
       "      <td>17</td>\n",
       "    </tr>\n",
       "    <tr>\n",
       "      <th>...</th>\n",
       "      <td>...</td>\n",
       "      <td>...</td>\n",
       "      <td>...</td>\n",
       "      <td>...</td>\n",
       "      <td>...</td>\n",
       "      <td>...</td>\n",
       "      <td>...</td>\n",
       "      <td>...</td>\n",
       "      <td>...</td>\n",
       "    </tr>\n",
       "    <tr>\n",
       "      <th>1978959</th>\n",
       "      <td>3</td>\n",
       "      <td>254643</td>\n",
       "      <td>4854</td>\n",
       "      <td>5338</td>\n",
       "      <td>1.0</td>\n",
       "      <td>5.0</td>\n",
       "      <td>1</td>\n",
       "      <td>4.0</td>\n",
       "      <td>61</td>\n",
       "    </tr>\n",
       "    <tr>\n",
       "      <th>1978960</th>\n",
       "      <td>24</td>\n",
       "      <td>1233285</td>\n",
       "      <td>2540</td>\n",
       "      <td>4211</td>\n",
       "      <td>1.0</td>\n",
       "      <td>6.0</td>\n",
       "      <td>7</td>\n",
       "      <td>4.0</td>\n",
       "      <td>31</td>\n",
       "    </tr>\n",
       "    <tr>\n",
       "      <th>1978961</th>\n",
       "      <td>10</td>\n",
       "      <td>138926</td>\n",
       "      <td>8570</td>\n",
       "      <td>2738</td>\n",
       "      <td>0.0</td>\n",
       "      <td>5.0</td>\n",
       "      <td>6</td>\n",
       "      <td>5.0</td>\n",
       "      <td>39</td>\n",
       "    </tr>\n",
       "    <tr>\n",
       "      <th>1978962</th>\n",
       "      <td>45</td>\n",
       "      <td>118627</td>\n",
       "      <td>5309</td>\n",
       "      <td>7400</td>\n",
       "      <td>0.0</td>\n",
       "      <td>5.0</td>\n",
       "      <td>1</td>\n",
       "      <td>4.0</td>\n",
       "      <td>40</td>\n",
       "    </tr>\n",
       "    <tr>\n",
       "      <th>1978963</th>\n",
       "      <td>31</td>\n",
       "      <td>767401</td>\n",
       "      <td>8734</td>\n",
       "      <td>7918</td>\n",
       "      <td>0.0</td>\n",
       "      <td>5.0</td>\n",
       "      <td>7</td>\n",
       "      <td>1.0</td>\n",
       "      <td>10</td>\n",
       "    </tr>\n",
       "  </tbody>\n",
       "</table>\n",
       "<p>1975989 rows × 9 columns</p>\n",
       "</div>"
      ],
      "text/plain": [
       "         cate  user_id  brand  shop_id  sex  age  user_lv_cd  city_level  \\\n",
       "1          79  1008776  10511     9665  0.0  6.0           7         4.0   \n",
       "2          79  1569797   4854       79  1.0  5.0           5         4.0   \n",
       "3          79  1066676   1226     7129  1.0  6.0           7         1.0   \n",
       "4          79  1314628   5700     1553  1.0  5.0           5         1.0   \n",
       "5          79   982912   1898     1182  0.0  5.0           5         1.0   \n",
       "...       ...      ...    ...      ...  ...  ...         ...         ...   \n",
       "1978959     3   254643   4854     5338  1.0  5.0           1         4.0   \n",
       "1978960    24  1233285   2540     4211  1.0  6.0           7         4.0   \n",
       "1978961    10   138926   8570     2738  0.0  5.0           6         5.0   \n",
       "1978962    45   118627   5309     7400  0.0  5.0           1         4.0   \n",
       "1978963    31   767401   8734     7918  0.0  5.0           7         1.0   \n",
       "\n",
       "         date_num  \n",
       "1              29  \n",
       "2               5  \n",
       "3              35  \n",
       "4               4  \n",
       "5              17  \n",
       "...           ...  \n",
       "1978959        61  \n",
       "1978960        31  \n",
       "1978961        39  \n",
       "1978962        40  \n",
       "1978963        10  \n",
       "\n",
       "[1975989 rows x 9 columns]"
      ]
     },
     "execution_count": 167,
     "metadata": {},
     "output_type": "execute_result"
    }
   ],
   "source": [
    "train_clear3"
   ]
  },
  {
   "cell_type": "code",
   "execution_count": null,
   "metadata": {},
   "outputs": [],
   "source": []
  }
 ],
 "metadata": {
  "kernelspec": {
   "display_name": "Python 3",
   "language": "python",
   "name": "python3"
  },
  "language_info": {
   "codemirror_mode": {
    "name": "ipython",
    "version": 3
   },
   "file_extension": ".py",
   "mimetype": "text/x-python",
   "name": "python",
   "nbconvert_exporter": "python",
   "pygments_lexer": "ipython3",
   "version": "3.8.3"
  }
 },
 "nbformat": 4,
 "nbformat_minor": 4
}
